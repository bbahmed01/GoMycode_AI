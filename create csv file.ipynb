{
 "cells": [
  {
   "cell_type": "code",
   "execution_count": 15,
   "id": "658635a4",
   "metadata": {},
   "outputs": [],
   "source": [
    "import pandas as pd\n",
    "people={\"name\":[\"Mr Sami\",\"Lady Samia\",\"Miss Miriam\",\"Mr Ahmed\",'Dona siwar'],\n",
    "    \"salary\":[500,2700,700,500,300],        \n",
    "    \"age\":[20,48,22,21,19],\n",
    "    \"sex\":[\"M\",\"F\",\"F\",\"M\",'F'],\n",
    "    \"smoke\":['yes','','','no','yes'],\n",
    "    \"drink\":['yes','no','','yes','']\n",
    "\n",
    "}\n",
    "df = pd.DataFrame(people)\n",
    "df.to_csv(\"people.csv\")"
   ]
  },
  {
   "cell_type": "code",
   "execution_count": null,
   "id": "ef3969d1",
   "metadata": {},
   "outputs": [],
   "source": []
  }
 ],
 "metadata": {
  "kernelspec": {
   "display_name": "Python 3 (ipykernel)",
   "language": "python",
   "name": "python3"
  },
  "language_info": {
   "codemirror_mode": {
    "name": "ipython",
    "version": 3
   },
   "file_extension": ".py",
   "mimetype": "text/x-python",
   "name": "python",
   "nbconvert_exporter": "python",
   "pygments_lexer": "ipython3",
   "version": "3.9.7"
  }
 },
 "nbformat": 4,
 "nbformat_minor": 5
}
