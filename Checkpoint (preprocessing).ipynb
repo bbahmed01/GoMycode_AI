{
 "cells": [
  {
   "cell_type": "code",
   "execution_count": 31,
   "id": "adc06ce5",
   "metadata": {},
   "outputs": [
    {
     "name": "stdout",
     "output_type": "stream",
     "text": [
      "       Unnamed: 0       salary        age\n",
      "count    5.000000     5.000000   5.000000\n",
      "mean     2.000000   940.000000  26.000000\n",
      "std      1.581139   993.981891  12.349089\n",
      "min      0.000000   300.000000  19.000000\n",
      "25%      1.000000   500.000000  20.000000\n",
      "50%      2.000000   500.000000  21.000000\n",
      "75%      3.000000   700.000000  22.000000\n",
      "max      4.000000  2700.000000  48.000000\n"
     ]
    }
   ],
   "source": [
    "import pandas as pd\n",
    "df = pd.read_csv(\"./people.csv\")\n",
    "print(df.describe())\n",
    "\n",
    "\n",
    "\n",
    "\n"
   ]
  },
  {
   "cell_type": "code",
   "execution_count": 32,
   "id": "b9c60a1a",
   "metadata": {},
   "outputs": [
    {
     "data": {
      "text/html": [
       "<div>\n",
       "<style scoped>\n",
       "    .dataframe tbody tr th:only-of-type {\n",
       "        vertical-align: middle;\n",
       "    }\n",
       "\n",
       "    .dataframe tbody tr th {\n",
       "        vertical-align: top;\n",
       "    }\n",
       "\n",
       "    .dataframe thead th {\n",
       "        text-align: right;\n",
       "    }\n",
       "</style>\n",
       "<table border=\"1\" class=\"dataframe\">\n",
       "  <thead>\n",
       "    <tr style=\"text-align: right;\">\n",
       "      <th></th>\n",
       "      <th>name</th>\n",
       "      <th>salary</th>\n",
       "      <th>age</th>\n",
       "      <th>sex</th>\n",
       "      <th>smoke</th>\n",
       "      <th>drink</th>\n",
       "    </tr>\n",
       "  </thead>\n",
       "  <tbody>\n",
       "    <tr>\n",
       "      <th>0</th>\n",
       "      <td>Mr Sami</td>\n",
       "      <td>500</td>\n",
       "      <td>20</td>\n",
       "      <td>M</td>\n",
       "      <td>yes</td>\n",
       "      <td>yes</td>\n",
       "    </tr>\n",
       "    <tr>\n",
       "      <th>1</th>\n",
       "      <td>Lady Samia</td>\n",
       "      <td>2700</td>\n",
       "      <td>48</td>\n",
       "      <td>F</td>\n",
       "      <td>NaN</td>\n",
       "      <td>no</td>\n",
       "    </tr>\n",
       "    <tr>\n",
       "      <th>2</th>\n",
       "      <td>Miss Miriam</td>\n",
       "      <td>700</td>\n",
       "      <td>22</td>\n",
       "      <td>F</td>\n",
       "      <td>NaN</td>\n",
       "      <td>NaN</td>\n",
       "    </tr>\n",
       "    <tr>\n",
       "      <th>3</th>\n",
       "      <td>Mr Ahmed</td>\n",
       "      <td>500</td>\n",
       "      <td>21</td>\n",
       "      <td>M</td>\n",
       "      <td>no</td>\n",
       "      <td>yes</td>\n",
       "    </tr>\n",
       "    <tr>\n",
       "      <th>4</th>\n",
       "      <td>Dona siwar</td>\n",
       "      <td>300</td>\n",
       "      <td>19</td>\n",
       "      <td>F</td>\n",
       "      <td>yes</td>\n",
       "      <td>NaN</td>\n",
       "    </tr>\n",
       "  </tbody>\n",
       "</table>\n",
       "</div>"
      ],
      "text/plain": [
       "          name  salary  age sex smoke drink\n",
       "0      Mr Sami     500   20   M   yes   yes\n",
       "1   Lady Samia    2700   48   F   NaN    no\n",
       "2  Miss Miriam     700   22   F   NaN   NaN\n",
       "3     Mr Ahmed     500   21   M    no   yes\n",
       "4   Dona siwar     300   19   F   yes   NaN"
      ]
     },
     "execution_count": 32,
     "metadata": {},
     "output_type": "execute_result"
    }
   ],
   "source": [
    "df= df.drop([\"Unnamed: 0\"], axis = 1)\n",
    "df.head()\n"
   ]
  },
  {
   "cell_type": "code",
   "execution_count": 33,
   "id": "8f53f3a8",
   "metadata": {},
   "outputs": [],
   "source": [
    "df.fillna('no',inplace=True)\n",
    "df.head()\n",
    "df.to_csv('FD_people.csv')"
   ]
  },
  {
   "cell_type": "code",
   "execution_count": null,
   "id": "1f7430a6",
   "metadata": {},
   "outputs": [],
   "source": []
  }
 ],
 "metadata": {
  "kernelspec": {
   "display_name": "Python 3 (ipykernel)",
   "language": "python",
   "name": "python3"
  },
  "language_info": {
   "codemirror_mode": {
    "name": "ipython",
    "version": 3
   },
   "file_extension": ".py",
   "mimetype": "text/x-python",
   "name": "python",
   "nbconvert_exporter": "python",
   "pygments_lexer": "ipython3",
   "version": "3.9.7"
  }
 },
 "nbformat": 4,
 "nbformat_minor": 5
}
