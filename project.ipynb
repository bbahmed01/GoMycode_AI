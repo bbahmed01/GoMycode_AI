{
 "cells": [
  {
   "cell_type": "code",
   "execution_count": 1,
   "id": "7ba09077",
   "metadata": {},
   "outputs": [
    {
     "data": {
      "text/plain": [
       "'\\ndata set used:\\nPetrol/Gas prices worldwide.\\nIt contains world share of petrol consumption by country, price per gallon, price per litter and the \\ncorresponding price in Pakistan Rupee (Conversion Rate 1 USD = 211.5 PKR)\\n'"
      ]
     },
     "execution_count": 1,
     "metadata": {},
     "output_type": "execute_result"
    }
   ],
   "source": [
    "\"\"\"\n",
    "data set used:\n",
    "Petrol/Gas prices worldwide.\n",
    "It contains world share of petrol consumption by country, price per gallon, price per litter and the \n",
    "corresponding price in Pakistan Rupee (Conversion Rate 1 USD = 211.5 PKR)\n",
    "\"\"\""
   ]
  },
  {
   "cell_type": "code",
   "execution_count": 7,
   "id": "37d5b8d4",
   "metadata": {},
   "outputs": [],
   "source": [
    "#importing librairies \n",
    "import pandas as pd\n",
    "import seaborn as sns\n",
    "import matplotlib.pyplot as plt\n",
    "import string\n",
    "import io\n",
    "import sklearn as sk #import tree \n",
    "from sklearn.model_selection import train_test_split\n",
    "import sklearn.tree as skt#import DecisionTreeClassifier \n",
    "from sklearn.metrics import accuracy_score\n",
    "from sklearn.cluster import AgglomerativeClustering \n",
    "from csv import reader\n",
    "from sklearn import datasets\n",
    "from sklearn.ensemble import RandomForestClassifier #Importing Random Forest Classifier\n",
    "from sklearn import metrics  # Importing metrics to test accuracy\n",
    "import scipy.cluster.hierarchy as shc\n",
    "from sklearn.cluster import KMeans  #Importing our clustering algorithm: KMeans\n",
    "from sklearn.preprocessing import PolynomialFeatures \n",
    "from sklearn.metrics import mean_squared_error\n",
    "import numpy as np\n",
    "from sklearn.linear_model import LinearRegression\n",
    "from sklearn.linear_model import LogisticRegression"
   ]
  },
  {
   "cell_type": "code",
   "execution_count": 8,
   "id": "024df447",
   "metadata": {},
   "outputs": [],
   "source": [
    "#extracting data\n",
    "dataset = []\n",
    "with open('./Petrol Dataset June 23 2022 -- Version 2.csv', 'r') as read_obj:\n",
    "    # pass the file object to reader() to get the reader object\n",
    "    csv_reader = reader(read_obj)\n",
    "    # Iterate over each row in the csv using reader object\n",
    "    for row in csv_reader:\n",
    "        # row variable is a list that represents a row in csv\n",
    "        dataset.append(row)\n"
   ]
  },
  {
   "cell_type": "code",
   "execution_count": 9,
   "id": "710c3c29",
   "metadata": {},
   "outputs": [
    {
     "data": {
      "text/html": [
       "<div>\n",
       "<style scoped>\n",
       "    .dataframe tbody tr th:only-of-type {\n",
       "        vertical-align: middle;\n",
       "    }\n",
       "\n",
       "    .dataframe tbody tr th {\n",
       "        vertical-align: top;\n",
       "    }\n",
       "\n",
       "    .dataframe thead th {\n",
       "        text-align: right;\n",
       "    }\n",
       "</style>\n",
       "<table border=\"1\" class=\"dataframe\">\n",
       "  <thead>\n",
       "    <tr style=\"text-align: right;\">\n",
       "      <th></th>\n",
       "      <th>S#</th>\n",
       "      <th>Country</th>\n",
       "      <th>Daily Oil Consumption (Barrels)</th>\n",
       "      <th>World Share</th>\n",
       "      <th>Yearly Gallons Per Capita</th>\n",
       "      <th>Price Per Gallon (USD)</th>\n",
       "      <th>Price Per Liter (USD)</th>\n",
       "      <th>Price Per Liter (PKR)</th>\n",
       "      <th>GDP Per Capita ( USD )</th>\n",
       "      <th>Gallons GDP Per Capita Can Buy</th>\n",
       "      <th>xTimes Yearly Gallons Per Capita Buy</th>\n",
       "    </tr>\n",
       "  </thead>\n",
       "  <tbody>\n",
       "    <tr>\n",
       "      <th>0</th>\n",
       "      <td>1</td>\n",
       "      <td>United States</td>\n",
       "      <td>19687287</td>\n",
       "      <td>20%</td>\n",
       "      <td>934.3</td>\n",
       "      <td>5.19</td>\n",
       "      <td>1.37</td>\n",
       "      <td>289.97</td>\n",
       "      <td>63414</td>\n",
       "      <td>12218</td>\n",
       "      <td>13</td>\n",
       "    </tr>\n",
       "    <tr>\n",
       "      <th>1</th>\n",
       "      <td>2</td>\n",
       "      <td>China</td>\n",
       "      <td>12791553</td>\n",
       "      <td>13%</td>\n",
       "      <td>138.7</td>\n",
       "      <td>5.42</td>\n",
       "      <td>1.43</td>\n",
       "      <td>302.87</td>\n",
       "      <td>10435</td>\n",
       "      <td>1925</td>\n",
       "      <td>14</td>\n",
       "    </tr>\n",
       "    <tr>\n",
       "      <th>2</th>\n",
       "      <td>3</td>\n",
       "      <td>India</td>\n",
       "      <td>4443000</td>\n",
       "      <td>5%</td>\n",
       "      <td>51.4</td>\n",
       "      <td>5.05</td>\n",
       "      <td>1.33</td>\n",
       "      <td>281.93</td>\n",
       "      <td>1901</td>\n",
       "      <td>376</td>\n",
       "      <td>7</td>\n",
       "    </tr>\n",
       "    <tr>\n",
       "      <th>3</th>\n",
       "      <td>4</td>\n",
       "      <td>Japan</td>\n",
       "      <td>4012877</td>\n",
       "      <td>4%</td>\n",
       "      <td>481.5</td>\n",
       "      <td>4.69</td>\n",
       "      <td>1.24</td>\n",
       "      <td>262.05</td>\n",
       "      <td>40193</td>\n",
       "      <td>8570</td>\n",
       "      <td>18</td>\n",
       "    </tr>\n",
       "    <tr>\n",
       "      <th>4</th>\n",
       "      <td>5</td>\n",
       "      <td>Russia</td>\n",
       "      <td>3631287</td>\n",
       "      <td>4%</td>\n",
       "      <td>383.2</td>\n",
       "      <td>3.41</td>\n",
       "      <td>0.90</td>\n",
       "      <td>190.56</td>\n",
       "      <td>10127</td>\n",
       "      <td>2970</td>\n",
       "      <td>8</td>\n",
       "    </tr>\n",
       "    <tr>\n",
       "      <th>...</th>\n",
       "      <td>...</td>\n",
       "      <td>...</td>\n",
       "      <td>...</td>\n",
       "      <td>...</td>\n",
       "      <td>...</td>\n",
       "      <td>...</td>\n",
       "      <td>...</td>\n",
       "      <td>...</td>\n",
       "      <td>...</td>\n",
       "      <td>...</td>\n",
       "      <td>...</td>\n",
       "    </tr>\n",
       "    <tr>\n",
       "      <th>176</th>\n",
       "      <td>177</td>\n",
       "      <td>Belize</td>\n",
       "      <td>4001</td>\n",
       "      <td>0%</td>\n",
       "      <td>166.5</td>\n",
       "      <td>6.68</td>\n",
       "      <td>1.76</td>\n",
       "      <td>373.09</td>\n",
       "      <td>4436</td>\n",
       "      <td>664</td>\n",
       "      <td>4</td>\n",
       "    </tr>\n",
       "    <tr>\n",
       "      <th>177</th>\n",
       "      <td>178</td>\n",
       "      <td>Niue</td>\n",
       "      <td>51</td>\n",
       "      <td>0%</td>\n",
       "      <td>484.4</td>\n",
       "      <td>11.43</td>\n",
       "      <td>3.02</td>\n",
       "      <td>638.73</td>\n",
       "      <td>15586</td>\n",
       "      <td>1364</td>\n",
       "      <td>3</td>\n",
       "    </tr>\n",
       "    <tr>\n",
       "      <th>178</th>\n",
       "      <td>179</td>\n",
       "      <td>Saint Pierre &amp; Miquelon</td>\n",
       "      <td>660</td>\n",
       "      <td>0%</td>\n",
       "      <td>1705.1</td>\n",
       "      <td>8.27</td>\n",
       "      <td>2.19</td>\n",
       "      <td>462.13</td>\n",
       "      <td>34900</td>\n",
       "      <td>4220</td>\n",
       "      <td>2</td>\n",
       "    </tr>\n",
       "    <tr>\n",
       "      <th>179</th>\n",
       "      <td>180</td>\n",
       "      <td>Montserrat</td>\n",
       "      <td>400</td>\n",
       "      <td>0%</td>\n",
       "      <td>1231.1</td>\n",
       "      <td>4.57</td>\n",
       "      <td>1.21</td>\n",
       "      <td>255.07</td>\n",
       "      <td>12589</td>\n",
       "      <td>2755</td>\n",
       "      <td>2</td>\n",
       "    </tr>\n",
       "    <tr>\n",
       "      <th>180</th>\n",
       "      <td>181</td>\n",
       "      <td>Tonga</td>\n",
       "      <td>899</td>\n",
       "      <td>0%</td>\n",
       "      <td>136.3</td>\n",
       "      <td>16.20</td>\n",
       "      <td>4.28</td>\n",
       "      <td>905.22</td>\n",
       "      <td>4903</td>\n",
       "      <td>303</td>\n",
       "      <td>2</td>\n",
       "    </tr>\n",
       "  </tbody>\n",
       "</table>\n",
       "<p>181 rows × 11 columns</p>\n",
       "</div>"
      ],
      "text/plain": [
       "      S#                  Country  Daily Oil Consumption (Barrels)  \\\n",
       "0      1            United States                         19687287   \n",
       "1      2                    China                         12791553   \n",
       "2      3                    India                          4443000   \n",
       "3      4                    Japan                          4012877   \n",
       "4      5                   Russia                          3631287   \n",
       "..   ...                      ...                              ...   \n",
       "176  177                   Belize                             4001   \n",
       "177  178                     Niue                               51   \n",
       "178  179  Saint Pierre & Miquelon                              660   \n",
       "179  180               Montserrat                              400   \n",
       "180  181                    Tonga                              899   \n",
       "\n",
       "    World Share Yearly Gallons Per Capita  Price Per Gallon (USD)  \\\n",
       "0           20%                     934.3                    5.19   \n",
       "1           13%                     138.7                    5.42   \n",
       "2            5%                      51.4                    5.05   \n",
       "3            4%                     481.5                    4.69   \n",
       "4            4%                     383.2                    3.41   \n",
       "..          ...                       ...                     ...   \n",
       "176          0%                     166.5                    6.68   \n",
       "177          0%                     484.4                   11.43   \n",
       "178          0%                    1705.1                    8.27   \n",
       "179          0%                    1231.1                    4.57   \n",
       "180          0%                     136.3                   16.20   \n",
       "\n",
       "     Price Per Liter (USD)  Price Per Liter (PKR)  GDP Per Capita ( USD )  \\\n",
       "0                     1.37                 289.97                   63414   \n",
       "1                     1.43                 302.87                   10435   \n",
       "2                     1.33                 281.93                    1901   \n",
       "3                     1.24                 262.05                   40193   \n",
       "4                     0.90                 190.56                   10127   \n",
       "..                     ...                    ...                     ...   \n",
       "176                   1.76                 373.09                    4436   \n",
       "177                   3.02                 638.73                   15586   \n",
       "178                   2.19                 462.13                   34900   \n",
       "179                   1.21                 255.07                   12589   \n",
       "180                   4.28                 905.22                    4903   \n",
       "\n",
       "     Gallons GDP Per Capita Can Buy xTimes Yearly Gallons Per Capita Buy  \n",
       "0                             12218                                   13  \n",
       "1                              1925                                   14  \n",
       "2                               376                                    7  \n",
       "3                              8570                                   18  \n",
       "4                              2970                                    8  \n",
       "..                              ...                                  ...  \n",
       "176                             664                                    4  \n",
       "177                            1364                                    3  \n",
       "178                            4220                                    2  \n",
       "179                            2755                                    2  \n",
       "180                             303                                    2  \n",
       "\n",
       "[181 rows x 11 columns]"
      ]
     },
     "execution_count": 9,
     "metadata": {},
     "output_type": "execute_result"
    }
   ],
   "source": [
    "#creating a dataframe\n",
    "data = {}\n",
    "c = 0\n",
    "ls = []\n",
    "aux = 0.0\n",
    "\n",
    "for items in dataset:\n",
    "    c = c + 1\n",
    "    col = -1\n",
    "    for item in items:\n",
    "        col = col + 1\n",
    "        if c == 1:\n",
    "            data[item] = []\n",
    "            ls.append(item)\n",
    "        else:\n",
    "            if col in [2,8,9] :\n",
    "                s = ''\n",
    "                for i in item:\n",
    "                    if i <= '9' and i >= '0':\n",
    "                        s = s + i\n",
    "                item = int(s)\n",
    "            if col in [5,6,7] :\n",
    "                item = float(item)\n",
    "                \n",
    "            data[ls[col]].append(item) \n",
    "df = pd.DataFrame(data)\n",
    "\"\"\"\n",
    "df = df.replace(',', '.') \n",
    "for i in df['Daily Oil Consumption (Barrels)']:\n",
    "    df['Daily Oil Consumption (Barrels)'][] = i.replace(',', '.') \n",
    "\"\"\"\n",
    "df"
   ]
  },
  {
   "cell_type": "code",
   "execution_count": 10,
   "id": "3b98664d",
   "metadata": {},
   "outputs": [
    {
     "name": "stdout",
     "output_type": "stream",
     "text": [
      "                                 Daily Oil Consumption (Barrels)  \\\n",
      "Daily Oil Consumption (Barrels)                         1.000000   \n",
      "Price Per Gallon (USD)                                 -0.029965   \n",
      "Price Per Liter (USD)                                  -0.030106   \n",
      "Price Per Liter (PKR)                                  -0.029938   \n",
      "GDP Per Capita ( USD )                                  0.190066   \n",
      "Gallons GDP Per Capita Can Buy                          0.051464   \n",
      "\n",
      "                                 Price Per Gallon (USD)  \\\n",
      "Daily Oil Consumption (Barrels)               -0.029965   \n",
      "Price Per Gallon (USD)                         1.000000   \n",
      "Price Per Liter (USD)                          0.999997   \n",
      "Price Per Liter (PKR)                          1.000000   \n",
      "GDP Per Capita ( USD )                         0.182356   \n",
      "Gallons GDP Per Capita Can Buy                -0.127351   \n",
      "\n",
      "                                 Price Per Liter (USD)  Price Per Liter (PKR)  \\\n",
      "Daily Oil Consumption (Barrels)              -0.030106              -0.029938   \n",
      "Price Per Gallon (USD)                        0.999997               1.000000   \n",
      "Price Per Liter (USD)                         1.000000               0.999997   \n",
      "Price Per Liter (PKR)                         0.999997               1.000000   \n",
      "GDP Per Capita ( USD )                        0.182663               0.182437   \n",
      "Gallons GDP Per Capita Can Buy               -0.127428              -0.127275   \n",
      "\n",
      "                                 GDP Per Capita ( USD )  \\\n",
      "Daily Oil Consumption (Barrels)                0.190066   \n",
      "Price Per Gallon (USD)                         0.182356   \n",
      "Price Per Liter (USD)                          0.182663   \n",
      "Price Per Liter (PKR)                          0.182437   \n",
      "GDP Per Capita ( USD )                         1.000000   \n",
      "Gallons GDP Per Capita Can Buy                 0.188181   \n",
      "\n",
      "                                 Gallons GDP Per Capita Can Buy  \n",
      "Daily Oil Consumption (Barrels)                        0.051464  \n",
      "Price Per Gallon (USD)                                -0.127351  \n",
      "Price Per Liter (USD)                                 -0.127428  \n",
      "Price Per Liter (PKR)                                 -0.127275  \n",
      "GDP Per Capita ( USD )                                 0.188181  \n",
      "Gallons GDP Per Capita Can Buy                         1.000000  \n"
     ]
    },
    {
     "data": {
      "image/png": "[encoded data removed]",
      "text/plain": [
       "<Figure size 360x432 with 2 Axes>"
      ]
     },
     "metadata": {
      "needs_background": "light"
     },
     "output_type": "display_data"
    }
   ],
   "source": [
    "#visualization\n",
    "\"\"\"\n",
    "v = sns.FacetGrid(df,row='Yearly Gallons Per Capita')\n",
    "v.map(sns.histplot,'Price Per Gallon (USD)',bins=5)\n",
    "#sns.histplot(df['Daily Oil Consumption (Barrels)'],x=df['World Share'],bins=5,kde=True)\n",
    "p = sns.FacetGrid(df,col=\"xTimes Yearly Gallons Per Capita Buy\")\n",
    "p.map(sns.histplot,\"Price Per Liter (PKR)\",bins=5)\n",
    "\"\"\"\n",
    "\n",
    "def plot_correlation_map( df ):\n",
    "\n",
    "    corr = df.corr()\n",
    "\n",
    "    s , ax = plt.subplots( figsize =( 5 , 6 ) )\n",
    "\n",
    "    cmap = sns.diverging_palette( 220 , 10, as_cmap = True )\n",
    "    print(corr)\n",
    "\n",
    "    s = sns.heatmap(\n",
    "\n",
    "        corr, \n",
    "\n",
    "        cmap = cmap,\n",
    "\n",
    "        square=True, \n",
    "\n",
    "        cbar_kws={ 'shrink' : .9 }, \n",
    "\n",
    "\n",
    "        ax=ax, \n",
    "\n",
    "        annot = True, \n",
    "\n",
    "        annot_kws = { 'fontsize' : 12 }\n",
    "\n",
    "        )\n",
    "  \n",
    "plot_correlation_map( df ) "
   ]
  },
  {
   "cell_type": "code",
   "execution_count": 18,
   "id": "6a1ca584",
   "metadata": {},
   "outputs": [
    {
     "name": "stdout",
     "output_type": "stream",
     "text": [
      "Mean squared error:  339547967.1131903\n",
      "R squared:  0.01782844154789287\n"
     ]
    },
    {
     "data": {
      "image/png": "[encoded data removed]",
      "text/plain": [
       "<Figure size 432x288 with 1 Axes>"
      ]
     },
     "metadata": {},
     "output_type": "display_data"
    },
    {
     "name": "stdout",
     "output_type": "stream",
     "text": [
      "Mean squared error:  339547967.1131903\n",
      "R squared:  0.01782844154789287\n"
     ]
    }
   ],
   "source": [
    "#7\n",
    "#polynomial regression\n",
    "x= df[\"Daily Oil Consumption (Barrels)\"].values.reshape(-1,1)\n",
    "y= df[\"GDP Per Capita ( USD )\"].values\n",
    "x_train, x_test, y_train, y_test = train_test_split(x, y, test_size=0.3, random_state=0)\n",
    "\n",
    "#linear regression\n",
    "model = LinearRegression()\n",
    "model.fit(x_train,y_train)\n",
    "predicted = model.predict(x_test)\n",
    "\n",
    "print(\"Mean squared error: \",mean_squared_error(y_test,predicted))\n",
    "print(\"R squared: \",metrics.r2_score(y_test,predicted))\n",
    "#plotting linear regression\n",
    "\n",
    "plt.scatter(x_test, y_test, color=\"black\")\n",
    "plt.plot(x_test, predicted, color=\"blue\", linewidth=3)\n",
    "\n",
    "plt.xticks(())\n",
    "plt.yticks(())\n",
    "\n",
    "plt.show()\n",
    "\n",
    "\n",
    "#performence of LR\n",
    "MSE_LR = mean_squared_error(y_test,predicted)\n",
    "RS_LR = metrics.r2_score(y_test,predicted)\n",
    "print(\"Mean squared error: \",MSE_LR)\n",
    "print(\"R squared: \",RS_LR)"
   ]
  },
  {
   "cell_type": "code",
   "execution_count": 23,
   "id": "05d76be3",
   "metadata": {},
   "outputs": [
    {
     "name": "stdout",
     "output_type": "stream",
     "text": [
      "R squared:  -0.012237459823658536  MS error 746747172570.6494\n"
     ]
    },
    {
     "data": {
      "text/plain": [
       "[<matplotlib.lines.Line2D at 0x1ad323b7fd0>]"
      ]
     },
     "execution_count": 23,
     "metadata": {},
     "output_type": "execute_result"
    },
    {
     "data": {
      "image/png": "[encoded data removed]",
      "text/plain": [
       "<Figure size 432x288 with 1 Axes>"
      ]
     },
     "metadata": {
      "needs_background": "light"
     },
     "output_type": "display_data"
    }
   ],
   "source": [
    "\n",
    "#polynomial regression\n",
    "x= df['Gallons GDP Per Capita Can Buy'].values.reshape(-1,1)\n",
    "y= df['Daily Oil Consumption (Barrels)'].values\n",
    "x_train, x_test, y_train, y_test = train_test_split(x, y, test_size=0.12, random_state=0)\n",
    "poly = PolynomialFeatures(degree = 4) \n",
    "x_poly = poly.fit_transform(x) \n",
    "poly.fit(x_poly, y) \n",
    "\n",
    "model = LinearRegression()\n",
    "model.fit(x_train,y_train)\n",
    "predicted = model.predict(x_test)\n",
    "\n",
    "\n",
    "MSE_PR = mean_squared_error(y_test,predicted)\n",
    "RS_PR = metrics.r2_score(y_test,predicted)\n",
    "\n",
    "print(\"R squared: \",RS_PR, \" MS error\", MSE_PR)\n",
    "\n",
    "lg=LinearRegression()\n",
    "lg.fit(x_poly, y) \n",
    "plt.scatter(x, y, color=\"r\")\n",
    "plt.title(\"multi-linear regression\")\n",
    "plt.ylabel(\"Gallons GDP Per Capita Can Buy\")\n",
    "plt.xlabel(\"Daily Oil Consumption (Barrels)\")\n",
    "plt.plot(x, lg.predict(poly.fit_transform(x)), color=\"k\") "
   ]
  },
  {
   "cell_type": "code",
   "execution_count": 24,
   "id": "80ea1775",
   "metadata": {},
   "outputs": [
    {
     "data": {
      "text/plain": [
       "'\\nso we gonna work with the polynomial regression method because its more accurate than linear regression (when we remove the\\noutliers)\\n'"
      ]
     },
     "execution_count": 24,
     "metadata": {},
     "output_type": "execute_result"
    }
   ],
   "source": [
    "\"\"\"\n",
    "so we gonna work with the polynomial regression method because its more accurate than linear regression (when we remove the\n",
    "outliers)\n",
    "\"\"\""
   ]
  },
  {
   "cell_type": "code",
   "execution_count": 25,
   "id": "e1f2b044",
   "metadata": {},
   "outputs": [
    {
     "name": "stdout",
     "output_type": "stream",
     "text": [
      "Highest allowed 6107774.356504348\n",
      "Lowest allowed -5040628.257056835\n"
     ]
    }
   ],
   "source": [
    "#Removing Outliers\n",
    "#Finding the Boundary Values\n",
    "print(\"Highest allowed\",df['Daily Oil Consumption (Barrels)'].mean() + 3*df['Daily Oil Consumption (Barrels)'].std())\n",
    "print(\"Lowest allowed\",df['Daily Oil Consumption (Barrels)'].mean() - 3*df['Daily Oil Consumption (Barrels)'].std())"
   ]
  },
  {
   "cell_type": "code",
   "execution_count": 26,
   "id": "a8baa37e",
   "metadata": {},
   "outputs": [
    {
     "data": {
      "text/plain": [
       "count    1.810000e+02\n",
       "mean     4.216212e+05\n",
       "std      9.550640e+05\n",
       "min      5.100000e+01\n",
       "25%      2.003600e+04\n",
       "50%      6.161200e+04\n",
       "75%      2.623520e+05\n",
       "max      6.107774e+06\n",
       "Name: Daily Oil Consumption (Barrels), dtype: float64"
      ]
     },
     "execution_count": 26,
     "metadata": {},
     "output_type": "execute_result"
    }
   ],
   "source": [
    "# Finding the Outliers\n",
    "df[(df['Daily Oil Consumption (Barrels)'] > 6107774.356504348) | (df['Daily Oil Consumption (Barrels)'] < -5040628.257056835)]\n",
    "#Trimming of Outliers\n",
    "new_df = df[(df['Daily Oil Consumption (Barrels)'] < 6107774.356504348) & (df['Daily Oil Consumption (Barrels)'] > -5040628.257056835)]\n",
    "new_df\n",
    "\n",
    "#Capping on Outliers\n",
    "\n",
    "upper_limit = df['Daily Oil Consumption (Barrels)'].mean() + 3*df['Daily Oil Consumption (Barrels)'].std()\n",
    "lower_limit = df['Daily Oil Consumption (Barrels)'].mean() - 3*df['Daily Oil Consumption (Barrels)'].std()\n",
    "\n",
    "#Now, apply the Capping\n",
    "df['Daily Oil Consumption (Barrels)'] = np.where(\n",
    "    df['Daily Oil Consumption (Barrels)']>upper_limit,\n",
    "    upper_limit,\n",
    "    np.where(\n",
    "        df['Daily Oil Consumption (Barrels)']<lower_limit,\n",
    "        lower_limit,\n",
    "        df['Daily Oil Consumption (Barrels)']\n",
    "    )\n",
    ")\n",
    "\n",
    "df['Daily Oil Consumption (Barrels)'].describe()"
   ]
  },
  {
   "cell_type": "code",
   "execution_count": 27,
   "id": "e8249e1b",
   "metadata": {},
   "outputs": [
    {
     "name": "stdout",
     "output_type": "stream",
     "text": [
      "Highest allowed 50488.42977858812\n",
      "Lowest allowed -42129.7446957152\n"
     ]
    }
   ],
   "source": [
    "#Finding the Boundary Values\n",
    "print(\"Highest allowed\",df['Gallons GDP Per Capita Can Buy'].mean() + 3*df['Gallons GDP Per Capita Can Buy'].std())\n",
    "print(\"Lowest allowed\",df['Gallons GDP Per Capita Can Buy'].mean() - 3*df['Gallons GDP Per Capita Can Buy'].std())\n"
   ]
  },
  {
   "cell_type": "code",
   "execution_count": 28,
   "id": "ed4ace07",
   "metadata": {},
   "outputs": [
    {
     "data": {
      "text/plain": [
       "count      181.000000\n",
       "mean      3349.444363\n",
       "std       5911.445424\n",
       "min         24.000000\n",
       "25%        473.000000\n",
       "50%       1410.000000\n",
       "75%       4103.000000\n",
       "max      50488.429779\n",
       "Name: Gallons GDP Per Capita Can Buy, dtype: float64"
      ]
     },
     "execution_count": 28,
     "metadata": {},
     "output_type": "execute_result"
    }
   ],
   "source": [
    "\n",
    "# Finding the Outliers\n",
    "df[(df['Gallons GDP Per Capita Can Buy'] > 50488.42977858812) | (df['Gallons GDP Per Capita Can Buy'] < -42129.7446957152)]\n",
    "#Trimming of Outliers\n",
    "new_df = df[(df['Gallons GDP Per Capita Can Buy'] < 50488.42977858812) & (df['Gallons GDP Per Capita Can Buy'] > -42129.7446957152)]\n",
    "new_df\n",
    "\n",
    "#Capping on Outliers\n",
    "\n",
    "upper_limit = df['Gallons GDP Per Capita Can Buy'].mean() + 3*df['Gallons GDP Per Capita Can Buy'].std()\n",
    "lower_limit = df['Gallons GDP Per Capita Can Buy'].mean() - 3*df['Gallons GDP Per Capita Can Buy'].std()\n",
    "\n",
    "#Now, apply the Capping\n",
    "df['Gallons GDP Per Capita Can Buy'] = np.where(\n",
    "    df['Gallons GDP Per Capita Can Buy']>upper_limit,\n",
    "    upper_limit,\n",
    "    np.where(\n",
    "        df['Gallons GDP Per Capita Can Buy']<lower_limit,\n",
    "        lower_limit,\n",
    "        df['Gallons GDP Per Capita Can Buy']\n",
    "    )\n",
    ")\n",
    "\n",
    "df['Gallons GDP Per Capita Can Buy'].describe()"
   ]
  },
  {
   "cell_type": "code",
   "execution_count": 29,
   "id": "cb15a5c1",
   "metadata": {},
   "outputs": [
    {
     "name": "stdout",
     "output_type": "stream",
     "text": [
      "Mean squared error:  334740148.42484033\n",
      "R squared:  0.03173546862874632\n"
     ]
    },
    {
     "data": {
      "image/png": "[encoded data removed]",
      "text/plain": [
       "<Figure size 432x288 with 1 Axes>"
      ]
     },
     "metadata": {},
     "output_type": "display_data"
    },
    {
     "name": "stdout",
     "output_type": "stream",
     "text": [
      "Mean squared error:  334740148.42484033\n",
      "R squared:  0.03173546862874632\n"
     ]
    }
   ],
   "source": [
    "#7\n",
    "#polynomial regression\n",
    "x= df[\"Daily Oil Consumption (Barrels)\"].values.reshape(-1,1)\n",
    "y= df[\"GDP Per Capita ( USD )\"].values\n",
    "x_train, x_test, y_train, y_test = train_test_split(x, y, test_size=0.3, random_state=0)\n",
    "\n",
    "#linear regression\n",
    "model = LinearRegression()\n",
    "model.fit(x_train,y_train)\n",
    "predicted = model.predict(x_test)\n",
    "\n",
    "print(\"Mean squared error: \",mean_squared_error(y_test,predicted))\n",
    "print(\"R squared: \",metrics.r2_score(y_test,predicted))\n",
    "#plotting linear regression\n",
    "\n",
    "plt.scatter(x_test, y_test, color=\"black\")\n",
    "plt.plot(x_test, predicted, color=\"blue\", linewidth=3)\n",
    "\n",
    "plt.xticks(())\n",
    "plt.yticks(())\n",
    "\n",
    "plt.show()\n",
    "\n",
    "\n",
    "#performence of LR\n",
    "MSE_LR = mean_squared_error(y_test,predicted)\n",
    "RS_LR = metrics.r2_score(y_test,predicted)\n",
    "print(\"Mean squared error: \",MSE_LR)\n",
    "print(\"R squared: \",RS_LR)"
   ]
  },
  {
   "cell_type": "code",
   "execution_count": 31,
   "id": "2a1e907a",
   "metadata": {},
   "outputs": [
    {
     "name": "stdout",
     "output_type": "stream",
     "text": [
      "R squared:  0.041802756736062374  MS error 706880658513.654\n"
     ]
    },
    {
     "data": {
      "text/plain": [
       "[<matplotlib.lines.Line2D at 0x1ad32211640>]"
      ]
     },
     "execution_count": 31,
     "metadata": {},
     "output_type": "execute_result"
    },
    {
     "data": {
      "image/png": "[encoded data removed]",
      "text/plain": [
       "<Figure size 432x288 with 1 Axes>"
      ]
     },
     "metadata": {
      "needs_background": "light"
     },
     "output_type": "display_data"
    }
   ],
   "source": [
    "\n",
    "#polynomial regression\n",
    "x= df['Gallons GDP Per Capita Can Buy'].values.reshape(-1,1)\n",
    "y= df['Daily Oil Consumption (Barrels)'].values\n",
    "x_train, x_test, y_train, y_test = train_test_split(x, y, test_size=0.12, random_state=0)\n",
    "poly = PolynomialFeatures(degree = 4) \n",
    "x_poly = poly.fit_transform(x) \n",
    "poly.fit(x_poly, y) \n",
    "\n",
    "model = LinearRegression()\n",
    "model.fit(x_train,y_train)\n",
    "predicted = model.predict(x_test)\n",
    "\n",
    "\n",
    "MSE_PR = mean_squared_error(y_test,predicted)\n",
    "RS_PR = metrics.r2_score(y_test,predicted)\n",
    "\n",
    "print(\"R squared: \",RS_PR, \" MS error\", MSE_PR)\n",
    "\n",
    "lg=LinearRegression()\n",
    "lg.fit(x_poly, y) \n",
    "plt.scatter(x, y, color=\"r\")\n",
    "plt.title(\"multi-linear regression\")\n",
    "plt.ylabel(\"Gallons GDP Per Capita Can Buy\")\n",
    "plt.xlabel(\"Daily Oil Consumption (Barrels)\")\n",
    "plt.plot(x, lg.predict(poly.fit_transform(x)), color=\"k\") \n"
   ]
  },
  {
   "cell_type": "code",
   "execution_count": null,
   "id": "30255ea3",
   "metadata": {},
   "outputs": [],
   "source": [
    "\"\"\"\n",
    "we can see that after removing the outliers the poàlynomial regression become more accurate than the linear regression\n",
    "\"\"\""
   ]
  }
 ],
 "metadata": {
  "kernelspec": {
   "display_name": "Python 3 (ipykernel)",
   "language": "python",
   "name": "python3"
  },
  "language_info": {
   "codemirror_mode": {
    "name": "ipython",
    "version": 3
   },
   "file_extension": ".py",
   "mimetype": "text/x-python",
   "name": "python",
   "nbconvert_exporter": "python",
   "pygments_lexer": "ipython3",
   "version": "3.9.7"
  }
 },
 "nbformat": 4,
 "nbformat_minor": 5
}
